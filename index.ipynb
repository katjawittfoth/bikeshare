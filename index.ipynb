{
 "cells": [
  {
   "cell_type": "code",
   "execution_count": 14,
   "metadata": {},
   "outputs": [
    {
     "data": {
      "text/html": [
       "        <script type=\"text/javascript\">\n",
       "        window.PlotlyConfig = {MathJaxConfig: 'local'};\n",
       "        if (window.MathJax) {MathJax.Hub.Config({SVG: {font: \"STIX-Web\"}});}\n",
       "        if (typeof require !== 'undefined') {\n",
       "        require.undef(\"plotly\");\n",
       "        requirejs.config({\n",
       "            paths: {\n",
       "                'plotly': ['https://cdn.plot.ly/plotly-latest.min']\n",
       "            }\n",
       "        });\n",
       "        require(['plotly'], function(Plotly) {\n",
       "            window._Plotly = Plotly;\n",
       "        });\n",
       "        }\n",
       "        </script>\n",
       "        "
      ]
     },
     "metadata": {},
     "output_type": "display_data"
    },
    {
     "data": {
      "text/html": [
       "<script>\n",
       "code_show=true; \n",
       "function code_toggle() {\n",
       " if (code_show){\n",
       " $('div.input').hide();\n",
       " } else {\n",
       " $('div.input').show();\n",
       " }\n",
       " code_show = !code_show\n",
       "} \n",
       "$( document ).ready(code_toggle);\n",
       "</script>\n",
       "<form action=\"javascript:code_toggle()\"><input type=\"submit\" \n",
       "value=\"toggle on/off the raw code\"></form>"
      ],
      "text/plain": [
       "<IPython.core.display.HTML object>"
      ]
     },
     "execution_count": 14,
     "metadata": {},
     "output_type": "execute_result"
    }
   ],
   "source": [
    "%matplotlib inline\n",
    "import matplotlib.pyplot as plt\n",
    "import pandas as pd\n",
    "import os\n",
    "import glob\n",
    "import geopy\n",
    "from geopy.distance import vincenty\n",
    "from pandas.plotting import scatter_matrix\n",
    "import seaborn as sns\n",
    "\n",
    "import plotly.plotly as py\n",
    "import plotly.graph_objs as go\n",
    "from plotly.offline import download_plotlyjs, init_notebook_mode, plot, iplot\n",
    "\n",
    "from IPython.display import Image\n",
    "from IPython.core.display import HTML\n",
    "from IPython.display import HTML\n",
    "\n",
    "from pylab import rcParams\n",
    "import itertools\n",
    "import statsmodels.api as sm\n",
    "from statsmodels.tsa.seasonal import seasonal_decompose\n",
    "from statsmodels.tsa.stattools import acf, pacf, adfuller\n",
    "from statsmodels.graphics.tsaplots import plot_acf, plot_pacf\n",
    "from statsmodels.tsa.statespace.sarimax import SARIMAX\n",
    "\n",
    "from sklearn.metrics import mean_squared_error, r2_score\n",
    "import warnings\n",
    "warnings.filterwarnings(\"ignore\")\n",
    "\n",
    "init_notebook_mode(connected=True)\n",
    "\n",
    "HTML('''<script>\n",
    "code_show=true; \n",
    "function code_toggle() {\n",
    " if (code_show){\n",
    " $('div.input').hide();\n",
    " } else {\n",
    " $('div.input').show();\n",
    " }\n",
    " code_show = !code_show\n",
    "} \n",
    "$( document ).ready(code_toggle);\n",
    "</script>\n",
    "<form action=\"javascript:code_toggle()\"><input type=\"submit\" \n",
    "value=\"toggle on/off the raw code\"></form>''')"
   ]
  },
  {
   "cell_type": "markdown",
   "metadata": {},
   "source": [
    "Below is a summary of my analysis, for full deep dive, please go to: http://localhost:8888/notebooks/Bike_Share_WX_Impact/Bike%20Share%20and%20Weather.ipynb"
   ]
  },
  {
   "cell_type": "markdown",
   "metadata": {},
   "source": [
    " "
   ]
  },
  {
   "cell_type": "markdown",
   "metadata": {},
   "source": [
    "# Does weather change bike riding habits in San Francisco?"
   ]
  },
  {
   "cell_type": "markdown",
   "metadata": {},
   "source": [
    "<p style=\"font-size:16px\">From my analysis on bike share date in SF and weather I found that weather indeed impacts bike riding behaviour. I came to this conclusion by analyzing bike and weather data with [EDA](./full_analysis.html#eda) and correlation plots. I also built time series models to understand if weather is a good predictor for daily bike share rides. Following, I am going to present you my findings. </p>"
   ]
  },
  {
   "cell_type": "markdown",
   "metadata": {},
   "source": [
    "### Average number of bike share rides is at highest when its mild weather"
   ]
  },
  {
   "cell_type": "markdown",
   "metadata": {},
   "source": [
    "<p style=\"font-size:16px\">People are more likely to use bike-share when the weather is good. Average number of bike-share rides is 3 times higher compared to all other conditions. We can conclude that people use bike-share more often when the weather is good.</p>"
   ]
  },
  {
   "cell_type": "code",
   "execution_count": 11,
   "metadata": {},
   "outputs": [
    {
     "data": {
      "application/vnd.plotly.v1+json": {
       "config": {
        "linkText": "Export to plot.ly",
        "plotlyServerURL": "https://plot.ly",
        "responsive": true,
        "showLink": false
       },
       "data": [
        {
         "marker": {
          "color": "rgb(142, 212, 229)"
         },
         "name": "Rain",
         "type": "bar",
         "uid": "ab858cd2-4d55-405a-a985-4b41cf90de00",
         "x": [
          "Cold & 🌧",
          "Good & 🌧",
          "Hot & 🌧"
         ],
         "y": [
          126.25227963525836,
          399.5258358662614
         ]
        },
        {
         "marker": {
          "color": "rgb(248, 222, 126)"
         },
         "name": "No Rain",
         "type": "bar",
         "uid": "1ed1f503-04d7-47e9-9ecd-dbef0a9681b1",
         "x": [
          "Cold & 🌤",
          "Good & 🌤",
          "Hot & 🌤"
         ],
         "y": [
          193.66869300911853,
          2577.0881458966564,
          29.188449848024316
         ]
        }
       ],
       "layout": {
        "barmode": "stack",
        "title": {
         "text": "Daily average number of bike share rides by weather and precipation"
        },
        "xaxis": {
         "title": {
          "text": "Weather condition"
         }
        },
        "yaxis": {
         "title": {
          "text": "Average number of bike share rides"
         }
        }
       }
      },
      "text/html": [
       "<div>\n",
       "        \n",
       "        \n",
       "            <div id=\"b6bd5cfe-0e9a-41cb-98ac-aa5ffa5cba95\" class=\"plotly-graph-div\" style=\"height:525px; width:100%;\"></div>\n",
       "            <script type=\"text/javascript\">\n",
       "                require([\"plotly\"], function(Plotly) {\n",
       "                    window.PLOTLYENV=window.PLOTLYENV || {};\n",
       "                    window.PLOTLYENV.BASE_URL='https://plot.ly';\n",
       "                    \n",
       "                if (document.getElementById(\"b6bd5cfe-0e9a-41cb-98ac-aa5ffa5cba95\")) {\n",
       "                    Plotly.newPlot(\n",
       "                        'b6bd5cfe-0e9a-41cb-98ac-aa5ffa5cba95',\n",
       "                        [{\"marker\": {\"color\": \"rgb(142, 212, 229)\"}, \"name\": \"Rain\", \"type\": \"bar\", \"uid\": \"b2cd4a3a-5b9c-400c-82a2-107bda10c542\", \"x\": [\"Cold & \\ud83c\\udf27\", \"Good & \\ud83c\\udf27\", \"Hot & \\ud83c\\udf27\"], \"y\": [126.25227963525836, 399.5258358662614]}, {\"marker\": {\"color\": \"rgb(248, 222, 126)\"}, \"name\": \"No Rain\", \"type\": \"bar\", \"uid\": \"f2a47d9f-9d7d-45f4-b643-b9373ffcab25\", \"x\": [\"Cold & \\ud83c\\udf24\", \"Good & \\ud83c\\udf24\", \"Hot & \\ud83c\\udf24\"], \"y\": [193.66869300911853, 2577.0881458966564, 29.188449848024316]}],\n",
       "                        {\"barmode\": \"stack\", \"title\": {\"text\": \"Daily average number of bike share rides by weather and precipation\"}, \"xaxis\": {\"title\": {\"text\": \"Weather condition\"}}, \"yaxis\": {\"title\": {\"text\": \"Average number of bike share rides\"}}},\n",
       "                        {\"showLink\": false, \"linkText\": \"Export to plot.ly\", \"plotlyServerURL\": \"https://plot.ly\", \"responsive\": true}\n",
       "                    ).then(function(){\n",
       "                            \n",
       "var gd = document.getElementById('b6bd5cfe-0e9a-41cb-98ac-aa5ffa5cba95');\n",
       "var x = new MutationObserver(function (mutations, observer) {{\n",
       "        var display = window.getComputedStyle(gd).display;\n",
       "        if (!display || display === 'none') {{\n",
       "            console.log([gd, 'removed!']);\n",
       "            Plotly.purge(gd);\n",
       "            observer.disconnect();\n",
       "        }}\n",
       "}});\n",
       "\n",
       "// Listen for the removal of the full notebook cells\n",
       "var notebookContainer = gd.closest('#notebook-container');\n",
       "if (notebookContainer) {{\n",
       "    x.observe(notebookContainer, {childList: true});\n",
       "}}\n",
       "\n",
       "// Listen for the clearing of the current output cell\n",
       "var outputEl = gd.closest('.output');\n",
       "if (outputEl) {{\n",
       "    x.observe(outputEl, {childList: true});\n",
       "}}\n",
       "\n",
       "                        })\n",
       "                };\n",
       "                });\n",
       "            </script>\n",
       "        </div>"
      ]
     },
     "metadata": {},
     "output_type": "display_data"
    }
   ],
   "source": [
    "bike_wx = pd.read_csv('bike_wx.csv')\n",
    "days = list(bike_wx.groupby('date').nunique().count())[0]\n",
    "rain_ct = list(bike_wx[bike_wx.precip>0].groupby('wx_feel').bike_id.count()/days)\n",
    "no_rain_ct= list(bike_wx[bike_wx.precip<=0].groupby('wx_feel').bike_id.count()/days)\n",
    "\n",
    "# Defining a color palette\n",
    "light_blue = 'rgb(142, 212, 229)'\n",
    "pink = 'rgb(231, 84, 128)'\n",
    "green = 'rgb(199, 204, 118)'\n",
    "grey = 'rgb(169,169,169)'\n",
    "yellow = 'rgb(248, 222, 126)'\n",
    "\n",
    "trace1 = go.Bar(\n",
    "    x=['Cold & 🌧', 'Good & 🌧', 'Hot & 🌧'],\n",
    "    y=rain_ct, marker = dict(color=light_blue),\n",
    "    name='Rain')\n",
    "trace2 = go.Bar(\n",
    "    x=['Cold & 🌤', 'Good & 🌤', 'Hot & 🌤'],\n",
    "    y=no_rain_ct,\n",
    "    name='No Rain', marker = dict(color=yellow))\n",
    "\n",
    "data = [trace1, trace2]\n",
    "layout = go.Layout(\n",
    "    barmode='stack', title = 'Daily average number of bike share rides by weather and precipation', xaxis=dict(title='Weather condition'),\n",
    "    yaxis=dict(\n",
    "        title='Average number of bike share rides'),)\n",
    "\n",
    "fig = go.Figure(data=data, layout=layout)\n",
    "iplot(fig, filename = \"Weather\")"
   ]
  },
  {
   "cell_type": "markdown",
   "metadata": {},
   "source": [
    "<font size=\"2\">$^*$Cold is below 53 F, Good is beween 53 F and 73 F and Hot is above 73 F.  </font>"
   ]
  },
  {
   "cell_type": "markdown",
   "metadata": {},
   "source": [
    "### Bike rides duration increases with better weather"
   ]
  },
  {
   "cell_type": "markdown",
   "metadata": {},
   "source": [
    "<font size=\"3\">The weather also impacts bike share ride duration. On sunny days with no rain the rides are almost 20.8% longer and the avergae duration increases with imrpoving weather conditions.</font>"
   ]
  },
  {
   "cell_type": "code",
   "execution_count": 21,
   "metadata": {},
   "outputs": [
    {
     "data": {
      "application/vnd.plotly.v1+json": {
       "config": {
        "linkText": "Export to plot.ly",
        "plotlyServerURL": "https://plot.ly",
        "responsive": true,
        "showLink": false
       },
       "data": [
        {
         "marker": {
          "color": "rgb(142, 212, 229)"
         },
         "name": "Rain",
         "type": "bar",
         "uid": "9efbab50-4ed1-4c55-9d1d-dc35ce4e11ea",
         "x": [
          "Cold & 🌧",
          "Good & 🌧",
          "Hot & 🌧"
         ],
         "y": [
          14.31099220775052,
          13.813688211963523
         ]
        },
        {
         "marker": {
          "color": "rgb(248, 222, 126)"
         },
         "name": "No Rain",
         "type": "bar",
         "uid": "a9a973da-fed9-4f65-a4c8-659daf971076",
         "x": [
          "Cold & 🌤",
          "Good & 🌤",
          "Hot & 🌤"
         ],
         "y": [
          15.22478511752489,
          16.839636127891882,
          18.891443646082823
         ]
        }
       ],
       "layout": {
        "barmode": "stack",
        "title": {
         "text": "Average duration of a bike share ride (in minutes) by weather and precipation"
        },
        "xaxis": {
         "title": {
          "text": "Weather condition"
         }
        },
        "yaxis": {
         "title": {
          "text": "Average duration of a bike share ride"
         }
        }
       }
      },
      "text/html": [
       "<div>\n",
       "        \n",
       "        \n",
       "            <div id=\"bf9f5673-12ca-4568-a215-d87d823c84cd\" class=\"plotly-graph-div\" style=\"height:525px; width:100%;\"></div>\n",
       "            <script type=\"text/javascript\">\n",
       "                require([\"plotly\"], function(Plotly) {\n",
       "                    window.PLOTLYENV=window.PLOTLYENV || {};\n",
       "                    window.PLOTLYENV.BASE_URL='https://plot.ly';\n",
       "                    \n",
       "                if (document.getElementById(\"bf9f5673-12ca-4568-a215-d87d823c84cd\")) {\n",
       "                    Plotly.newPlot(\n",
       "                        'bf9f5673-12ca-4568-a215-d87d823c84cd',\n",
       "                        [{\"marker\": {\"color\": \"rgb(142, 212, 229)\"}, \"name\": \"Rain\", \"type\": \"bar\", \"uid\": \"24a8fc4d-a7ed-4475-be63-26202691fbcb\", \"x\": [\"Cold & \\ud83c\\udf27\", \"Good & \\ud83c\\udf27\", \"Hot & \\ud83c\\udf27\"], \"y\": [14.31099220775052, 13.813688211963523]}, {\"marker\": {\"color\": \"rgb(248, 222, 126)\"}, \"name\": \"No Rain\", \"type\": \"bar\", \"uid\": \"dfbc0394-163e-45e7-862f-5d9eccef113d\", \"x\": [\"Cold & \\ud83c\\udf24\", \"Good & \\ud83c\\udf24\", \"Hot & \\ud83c\\udf24\"], \"y\": [15.22478511752489, 16.839636127891882, 18.891443646082823]}],\n",
       "                        {\"barmode\": \"stack\", \"title\": {\"text\": \"Average duration of a bike share ride (in minutes) by weather and precipation\"}, \"xaxis\": {\"title\": {\"text\": \"Weather condition\"}}, \"yaxis\": {\"title\": {\"text\": \"Average duration of a bike share ride\"}}},\n",
       "                        {\"showLink\": false, \"linkText\": \"Export to plot.ly\", \"plotlyServerURL\": \"https://plot.ly\", \"responsive\": true}\n",
       "                    ).then(function(){\n",
       "                            \n",
       "var gd = document.getElementById('bf9f5673-12ca-4568-a215-d87d823c84cd');\n",
       "var x = new MutationObserver(function (mutations, observer) {{\n",
       "        var display = window.getComputedStyle(gd).display;\n",
       "        if (!display || display === 'none') {{\n",
       "            console.log([gd, 'removed!']);\n",
       "            Plotly.purge(gd);\n",
       "            observer.disconnect();\n",
       "        }}\n",
       "}});\n",
       "\n",
       "// Listen for the removal of the full notebook cells\n",
       "var notebookContainer = gd.closest('#notebook-container');\n",
       "if (notebookContainer) {{\n",
       "    x.observe(notebookContainer, {childList: true});\n",
       "}}\n",
       "\n",
       "// Listen for the clearing of the current output cell\n",
       "var outputEl = gd.closest('.output');\n",
       "if (outputEl) {{\n",
       "    x.observe(outputEl, {childList: true});\n",
       "}}\n",
       "\n",
       "                        })\n",
       "                };\n",
       "                });\n",
       "            </script>\n",
       "        </div>"
      ]
     },
     "metadata": {},
     "output_type": "display_data"
    }
   ],
   "source": [
    "increase = (np.mean(np.array(no_rain_avg_dur)) - np.mean(np.array(rain_avg_dur)))/np.mean(np.array(rain_avg_dur))\n",
    "rain_avg_dur = list(bike_wx[bike_wx.precip>0].groupby('wx_feel').duration_sec.mean()/60)\n",
    "no_rain_avg_dur = list(bike_wx[bike_wx.precip<=0].groupby('wx_feel').duration_sec.mean()/60)\n",
    "trace1 = go.Bar(\n",
    "    x=['Cold & 🌧', 'Good & 🌧', 'Hot & 🌧'],\n",
    "    y=rain_avg_dur, marker = dict(color=light_blue),\n",
    "    name='Rain')\n",
    "trace2 = go.Bar(\n",
    "    x=['Cold & 🌤', 'Good & 🌤', 'Hot & 🌤'],\n",
    "    y=no_rain_avg_dur,\n",
    "    name='No Rain', marker = dict(color=yellow))\n",
    "\n",
    "data = [trace1, trace2]\n",
    "layout = go.Layout(\n",
    "    barmode='stack', title = 'Average duration of a bike share ride (in minutes) by weather and precipation', xaxis=dict(title='Weather condition'),\n",
    "    yaxis=dict(\n",
    "        title='Average duration of a bike share ride'),)\n",
    "\n",
    "fig = go.Figure(data=data, layout=layout)\n",
    "iplot(fig, filename = \"Weather\")"
   ]
  },
  {
   "cell_type": "markdown",
   "metadata": {},
   "source": [
    "### Share of Customer riding increases when it's hot"
   ]
  },
  {
   "cell_type": "markdown",
   "metadata": {},
   "source": [
    "<font size=\"3\">I found out that weather also impacts behavior of different customer segments. The proportion of Customers increases by 10.8 percentage points vs. Subscribers with improving weather condition from cold to hot.</font>"
   ]
  },
  {
   "cell_type": "code",
   "execution_count": 24,
   "metadata": {},
   "outputs": [],
   "source": [
    "bt = pd.read_csv('bike_sharing_weather_daily.csv')"
   ]
  },
  {
   "cell_type": "code",
   "execution_count": 26,
   "metadata": {},
   "outputs": [
    {
     "data": {
      "application/vnd.plotly.v1+json": {
       "config": {
        "linkText": "Export to plot.ly",
        "plotlyServerURL": "https://plot.ly",
        "responsive": true,
        "showLink": false
       },
       "data": [
        {
         "marker": {
          "color": "rgb(169,169,169)"
         },
         "name": "Customer",
         "type": "bar",
         "uid": "c013878b-1294-4e24-b31a-c7c6b13191d5",
         "x": [
          "Cold",
          "Good",
          "Hot"
         ],
         "y": [
          0.1480608812966728,
          0.18220147737275172,
          0.2560658127668437
         ]
        },
        {
         "marker": {
          "color": "rgb(231, 84, 128)"
         },
         "name": "Subscriber",
         "type": "bar",
         "uid": "6ad27dc6-b41d-476d-9211-1f4ac34f5bd3",
         "x": [
          "Cold",
          "Good",
          "Hot"
         ],
         "y": [
          0.8519391187033272,
          0.8177985226272483,
          0.7439341872331563
         ]
        }
       ],
       "layout": {
        "barmode": "stack",
        "title": {
         "text": "Comparing customers vs. subscribers behaviour by weather"
        },
        "xaxis": {
         "title": {
          "text": "Weather condition"
         }
        },
        "yaxis": {
         "title": {
          "text": "% of total bike share rides"
         }
        }
       }
      },
      "text/html": [
       "<div>\n",
       "        \n",
       "        \n",
       "            <div id=\"67ce3fe5-98cf-4c8f-b8aa-b8d2b1cee5d2\" class=\"plotly-graph-div\" style=\"height:525px; width:100%;\"></div>\n",
       "            <script type=\"text/javascript\">\n",
       "                require([\"plotly\"], function(Plotly) {\n",
       "                    window.PLOTLYENV=window.PLOTLYENV || {};\n",
       "                    window.PLOTLYENV.BASE_URL='https://plot.ly';\n",
       "                    \n",
       "                if (document.getElementById(\"67ce3fe5-98cf-4c8f-b8aa-b8d2b1cee5d2\")) {\n",
       "                    Plotly.newPlot(\n",
       "                        '67ce3fe5-98cf-4c8f-b8aa-b8d2b1cee5d2',\n",
       "                        [{\"marker\": {\"color\": \"rgb(169,169,169)\"}, \"name\": \"Customer\", \"type\": \"bar\", \"uid\": \"3db04382-5773-406d-89a5-648b41cccfae\", \"x\": [\"Cold\", \"Good\", \"Hot\"], \"y\": [0.1480608812966728, 0.18220147737275172, 0.2560658127668437]}, {\"marker\": {\"color\": \"rgb(231, 84, 128)\"}, \"name\": \"Subscriber\", \"type\": \"bar\", \"uid\": \"b00f97a1-1d71-40cc-bacd-436eafc6377e\", \"x\": [\"Cold\", \"Good\", \"Hot\"], \"y\": [0.8519391187033272, 0.8177985226272483, 0.7439341872331563]}],\n",
       "                        {\"barmode\": \"stack\", \"title\": {\"text\": \"Comparing customers vs. subscribers behaviour by weather\"}, \"xaxis\": {\"title\": {\"text\": \"Weather condition\"}}, \"yaxis\": {\"title\": {\"text\": \"% of total bike share rides\"}}},\n",
       "                        {\"showLink\": false, \"linkText\": \"Export to plot.ly\", \"plotlyServerURL\": \"https://plot.ly\", \"responsive\": true}\n",
       "                    ).then(function(){\n",
       "                            \n",
       "var gd = document.getElementById('67ce3fe5-98cf-4c8f-b8aa-b8d2b1cee5d2');\n",
       "var x = new MutationObserver(function (mutations, observer) {{\n",
       "        var display = window.getComputedStyle(gd).display;\n",
       "        if (!display || display === 'none') {{\n",
       "            console.log([gd, 'removed!']);\n",
       "            Plotly.purge(gd);\n",
       "            observer.disconnect();\n",
       "        }}\n",
       "}});\n",
       "\n",
       "// Listen for the removal of the full notebook cells\n",
       "var notebookContainer = gd.closest('#notebook-container');\n",
       "if (notebookContainer) {{\n",
       "    x.observe(notebookContainer, {childList: true});\n",
       "}}\n",
       "\n",
       "// Listen for the clearing of the current output cell\n",
       "var outputEl = gd.closest('.output');\n",
       "if (outputEl) {{\n",
       "    x.observe(outputEl, {childList: true});\n",
       "}}\n",
       "\n",
       "                        })\n",
       "                };\n",
       "                });\n",
       "            </script>\n",
       "        </div>"
      ]
     },
     "metadata": {},
     "output_type": "display_data"
    }
   ],
   "source": [
    "# Good\n",
    "cust_g = bt[bt.wx_feel == 'good'].count_customer.sum() / bt[bt.wx_feel == 'good'].count_shares.sum()\n",
    "sub_g = bt[bt.wx_feel == 'good'].count_subscriber.sum() / bt[bt.wx_feel == 'good'].count_shares.sum()\n",
    "# Cold\n",
    "cust_c = bt[bt.wx_feel == 'cold'].count_customer.sum() / bt[bt.wx_feel == 'cold'].count_shares.sum()\n",
    "sub_c = bt[bt.wx_feel == 'cold'].count_subscriber.sum() / bt[bt.wx_feel == 'cold'].count_shares.sum()\n",
    "# Hot\n",
    "cust_h = bt[bt.wx_feel == 'hot'].count_customer.sum() / bt[bt.wx_feel == 'hot'].count_shares.sum()\n",
    "sub_h = bt[bt.wx_feel == 'hot'].count_subscriber.sum() / bt[bt.wx_feel == 'hot'].count_shares.sum()\n",
    "\n",
    "trace1 = go.Bar(\n",
    "    x=['Cold', 'Good', 'Hot'],\n",
    "    y=[cust_c, cust_g, cust_h], marker = dict(color=grey),\n",
    "    name='Customer')\n",
    "trace2 = go.Bar(\n",
    "    x=['Cold', 'Good', 'Hot'],\n",
    "    y=[sub_c, sub_g, sub_h],\n",
    "    name='Subscriber', marker = dict(color=pink))\n",
    "\n",
    "data = [trace1, trace2]\n",
    "layout = go.Layout(\n",
    "    barmode='stack', title = 'Comparing customers vs. subscribers behaviour by weather', \n",
    "    xaxis=dict(title='Weather condition'),\n",
    "    yaxis=dict(\n",
    "        title='% of total bike share rides'),)\n",
    "\n",
    "fig = go.Figure(data=data, layout=layout)\n",
    "iplot(fig, filename = \"Bike Shares\")"
   ]
  },
  {
   "cell_type": "markdown",
   "metadata": {},
   "source": [
    "See more analysis and insights about weather impact on Customer vs. Subscriber behaviour in my Deep Dive Analysis here: http://localhost:8888/notebooks/Bike_Share_WX_Impact/Bike%20Share%20and%20Weather.ipynb"
   ]
  },
  {
   "cell_type": "code",
   "execution_count": null,
   "metadata": {},
   "outputs": [],
   "source": []
  },
  {
   "cell_type": "code",
   "execution_count": null,
   "metadata": {},
   "outputs": [],
   "source": [
    "<font size=\"3\"></font>"
   ]
  },
  {
   "cell_type": "code",
   "execution_count": null,
   "metadata": {},
   "outputs": [],
   "source": []
  }
 ],
 "metadata": {
  "kernelspec": {
   "display_name": "Python 3",
   "language": "python",
   "name": "python3"
  },
  "language_info": {
   "codemirror_mode": {
    "name": "ipython",
    "version": 3
   },
   "file_extension": ".py",
   "mimetype": "text/x-python",
   "name": "python",
   "nbconvert_exporter": "python",
   "pygments_lexer": "ipython3",
   "version": "3.6.4"
  },
  "varInspector": {
   "cols": {
    "lenName": 16,
    "lenType": 16,
    "lenVar": 40
   },
   "kernels_config": {
    "python": {
     "delete_cmd_postfix": "",
     "delete_cmd_prefix": "del ",
     "library": "var_list.py",
     "varRefreshCmd": "print(var_dic_list())"
    },
    "r": {
     "delete_cmd_postfix": ") ",
     "delete_cmd_prefix": "rm(",
     "library": "var_list.r",
     "varRefreshCmd": "cat(var_dic_list()) "
    }
   },
   "types_to_exclude": [
    "module",
    "function",
    "builtin_function_or_method",
    "instance",
    "_Feature"
   ],
   "window_display": false
  }
 },
 "nbformat": 4,
 "nbformat_minor": 2
}
