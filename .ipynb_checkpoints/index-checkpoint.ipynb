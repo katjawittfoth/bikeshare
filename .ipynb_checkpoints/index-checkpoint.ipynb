{
 "cells": [
  {
   "cell_type": "code",
   "execution_count": 55,
   "metadata": {},
   "outputs": [
    {
     "data": {
      "text/html": [
       "        <script type=\"text/javascript\">\n",
       "        window.PlotlyConfig = {MathJaxConfig: 'local'};\n",
       "        if (window.MathJax) {MathJax.Hub.Config({SVG: {font: \"STIX-Web\"}});}\n",
       "        if (typeof require !== 'undefined') {\n",
       "        require.undef(\"plotly\");\n",
       "        requirejs.config({\n",
       "            paths: {\n",
       "                'plotly': ['https://cdn.plot.ly/plotly-latest.min']\n",
       "            }\n",
       "        });\n",
       "        require(['plotly'], function(Plotly) {\n",
       "            window._Plotly = Plotly;\n",
       "        });\n",
       "        }\n",
       "        </script>\n",
       "        "
      ]
     },
     "metadata": {},
     "output_type": "display_data"
    },
    {
     "data": {
      "text/html": [
       "<script>\n",
       "code_show=true; \n",
       "function code_toggle() {\n",
       " if (code_show){\n",
       " $('div.input').hide();\n",
       " } else {\n",
       " $('div.input').show();\n",
       " }\n",
       " code_show = !code_show\n",
       "} \n",
       "$( document ).ready(code_toggle);\n",
       "</script>\n",
       "<form action=\"javascript:code_toggle()\"><input type=\"submit\" \n",
       "value=\"☀️\"></form>"
      ],
      "text/plain": [
       "<IPython.core.display.HTML object>"
      ]
     },
     "execution_count": 55,
     "metadata": {},
     "output_type": "execute_result"
    }
   ],
   "source": [
    "%matplotlib inline\n",
    "import matplotlib.pyplot as plt\n",
    "import pandas as pd\n",
    "import os\n",
    "import glob\n",
    "import geopy\n",
    "from geopy.distance import vincenty\n",
    "from pandas.plotting import scatter_matrix\n",
    "import seaborn as sns\n",
    "\n",
    "import plotly.plotly as py\n",
    "import plotly.graph_objs as go\n",
    "from plotly.offline import download_plotlyjs, init_notebook_mode, plot, iplot\n",
    "\n",
    "from IPython.display import Image\n",
    "from IPython.core.display import HTML\n",
    "from IPython.display import HTML\n",
    "\n",
    "from pylab import rcParams\n",
    "import itertools\n",
    "import statsmodels.api as sm\n",
    "from statsmodels.tsa.seasonal import seasonal_decompose\n",
    "from statsmodels.tsa.stattools import acf, pacf, adfuller\n",
    "from statsmodels.graphics.tsaplots import plot_acf, plot_pacf\n",
    "from statsmodels.tsa.statespace.sarimax import SARIMAX\n",
    "\n",
    "from sklearn.metrics import mean_squared_error, r2_score\n",
    "import warnings\n",
    "warnings.filterwarnings(\"ignore\")\n",
    "\n",
    "init_notebook_mode(connected=True)\n",
    "\n",
    "HTML('''<script>\n",
    "code_show=true; \n",
    "function code_toggle() {\n",
    " if (code_show){\n",
    " $('div.input').hide();\n",
    " } else {\n",
    " $('div.input').show();\n",
    " }\n",
    " code_show = !code_show\n",
    "} \n",
    "$( document ).ready(code_toggle);\n",
    "</script>\n",
    "<form action=\"javascript:code_toggle()\"><input type=\"submit\" \n",
    "value=\"☀️\"></form>''')"
   ]
  },
  {
   "cell_type": "markdown",
   "metadata": {},
   "source": [
    "Below is a summary of my <a href=\"full_analysis.html#eda\">deep dive analysis</a> on bike-share and weather in SF."
   ]
  },
  {
   "cell_type": "markdown",
   "metadata": {},
   "source": [
    " "
   ]
  },
  {
   "cell_type": "markdown",
   "metadata": {},
   "source": [
    "# Does weather change bike riding habits in San Francisco?"
   ]
  },
  {
   "cell_type": "markdown",
   "metadata": {},
   "source": [
    "<p style=\"font-size:16px\">From my analysis of weather and bike share in SF, I found that the weather indeed impacts bike riding behavior. I came to this conclusion by analyzing bike and weather data with <a href=\"full_analysis.html#eda\">EDA</a> and correlation plots. I also built time series models to determine if the weather is a good predictor for daily bike-share rides. Following, I am going to present to you my findings. </p>"
   ]
  },
  {
   "cell_type": "markdown",
   "metadata": {},
   "source": [
    "### Average number of bike-share rides is at highest when the weather is mild"
   ]
  },
  {
   "cell_type": "markdown",
   "metadata": {},
   "source": [
    "<p style=\"font-size:16px\">People are more likely to use bike-share when the weather is good. The average number of bike-share rides is three times higher compared to all other conditions. We can conclude that people use bike-share more often when the weather is good.</p>"
   ]
  },
  {
   "cell_type": "code",
   "execution_count": 53,
   "metadata": {},
   "outputs": [
    {
     "data": {
      "application/vnd.plotly.v1+json": {
       "config": {
        "linkText": "Export to plot.ly",
        "plotlyServerURL": "https://plot.ly",
        "responsive": true,
        "showLink": false
       },
       "data": [
        {
         "marker": {
          "color": "rgb(142, 212, 229)"
         },
         "name": "Rain",
         "type": "bar",
         "uid": "f5d86354-fc7e-4576-bf83-83e6b6b4127d",
         "x": [
          "Cold & 🌧",
          "Good & 🌧",
          "Hot & 🌧"
         ],
         "y": [
          126.25227963525836,
          399.5258358662614
         ]
        },
        {
         "marker": {
          "color": "rgb(248, 222, 126)"
         },
         "name": "No Rain",
         "type": "bar",
         "uid": "a1b4a407-efba-4807-85d8-ea61e7ab150e",
         "x": [
          "Cold & 🌤",
          "Good & 🌤",
          "Hot & 🌤"
         ],
         "y": [
          193.66869300911853,
          2577.0881458966564,
          29.188449848024316
         ]
        }
       ],
       "layout": {
        "barmode": "stack",
        "title": {
         "text": "Daily average number of bike share rides by weather and precipitation"
        },
        "xaxis": {
         "title": {
          "text": "Weather condition"
         }
        },
        "yaxis": {
         "title": {
          "text": "Average number of bike share rides"
         }
        }
       }
      },
      "text/html": [
       "<div>\n",
       "        \n",
       "        \n",
       "            <div id=\"214bcfe8-1cf9-43a1-8cd6-6d3d94a9cf5a\" class=\"plotly-graph-div\" style=\"height:525px; width:100%;\"></div>\n",
       "            <script type=\"text/javascript\">\n",
       "                require([\"plotly\"], function(Plotly) {\n",
       "                    window.PLOTLYENV=window.PLOTLYENV || {};\n",
       "                    window.PLOTLYENV.BASE_URL='https://plot.ly';\n",
       "                    \n",
       "                if (document.getElementById(\"214bcfe8-1cf9-43a1-8cd6-6d3d94a9cf5a\")) {\n",
       "                    Plotly.newPlot(\n",
       "                        '214bcfe8-1cf9-43a1-8cd6-6d3d94a9cf5a',\n",
       "                        [{\"marker\": {\"color\": \"rgb(142, 212, 229)\"}, \"name\": \"Rain\", \"type\": \"bar\", \"uid\": \"83a4528d-74cf-42ec-a7f4-a8fe68ab993c\", \"x\": [\"Cold & \\ud83c\\udf27\", \"Good & \\ud83c\\udf27\", \"Hot & \\ud83c\\udf27\"], \"y\": [126.25227963525836, 399.5258358662614]}, {\"marker\": {\"color\": \"rgb(248, 222, 126)\"}, \"name\": \"No Rain\", \"type\": \"bar\", \"uid\": \"6314e351-a907-44ca-92cb-5475759e8afd\", \"x\": [\"Cold & \\ud83c\\udf24\", \"Good & \\ud83c\\udf24\", \"Hot & \\ud83c\\udf24\"], \"y\": [193.66869300911853, 2577.0881458966564, 29.188449848024316]}],\n",
       "                        {\"barmode\": \"stack\", \"title\": {\"text\": \"Daily average number of bike share rides by weather and precipitation\"}, \"xaxis\": {\"title\": {\"text\": \"Weather condition\"}}, \"yaxis\": {\"title\": {\"text\": \"Average number of bike share rides\"}}},\n",
       "                        {\"showLink\": false, \"linkText\": \"Export to plot.ly\", \"plotlyServerURL\": \"https://plot.ly\", \"responsive\": true}\n",
       "                    ).then(function(){\n",
       "                            \n",
       "var gd = document.getElementById('214bcfe8-1cf9-43a1-8cd6-6d3d94a9cf5a');\n",
       "var x = new MutationObserver(function (mutations, observer) {{\n",
       "        var display = window.getComputedStyle(gd).display;\n",
       "        if (!display || display === 'none') {{\n",
       "            console.log([gd, 'removed!']);\n",
       "            Plotly.purge(gd);\n",
       "            observer.disconnect();\n",
       "        }}\n",
       "}});\n",
       "\n",
       "// Listen for the removal of the full notebook cells\n",
       "var notebookContainer = gd.closest('#notebook-container');\n",
       "if (notebookContainer) {{\n",
       "    x.observe(notebookContainer, {childList: true});\n",
       "}}\n",
       "\n",
       "// Listen for the clearing of the current output cell\n",
       "var outputEl = gd.closest('.output');\n",
       "if (outputEl) {{\n",
       "    x.observe(outputEl, {childList: true});\n",
       "}}\n",
       "\n",
       "                        })\n",
       "                };\n",
       "                });\n",
       "            </script>\n",
       "        </div>"
      ]
     },
     "metadata": {},
     "output_type": "display_data"
    }
   ],
   "source": [
    "bike_wx = pd.read_csv('tmp/bike_wx.csv')\n",
    "days = list(bike_wx.groupby('date').nunique().count())[0]\n",
    "rain_ct = list(bike_wx[bike_wx.precip>0].groupby('wx_feel').bike_id.count()/days)\n",
    "no_rain_ct= list(bike_wx[bike_wx.precip<=0].groupby('wx_feel').bike_id.count()/days)\n",
    "\n",
    "# Defining a color palette\n",
    "light_blue = 'rgb(142, 212, 229)'\n",
    "pink = 'rgb(231, 84, 128)'\n",
    "green = 'rgb(199, 204, 118)'\n",
    "grey = 'rgb(169,169,169)'\n",
    "yellow = 'rgb(248, 222, 126)'\n",
    "\n",
    "trace1 = go.Bar(\n",
    "    x=['Cold & 🌧', 'Good & 🌧', 'Hot & 🌧'],\n",
    "    y=rain_ct, marker = dict(color=light_blue),\n",
    "    name='Rain')\n",
    "trace2 = go.Bar(\n",
    "    x=['Cold & 🌤', 'Good & 🌤', 'Hot & 🌤'],\n",
    "    y=no_rain_ct,\n",
    "    name='No Rain', marker = dict(color=yellow))\n",
    "\n",
    "data = [trace1, trace2]\n",
    "layout = go.Layout(\n",
    "    barmode='stack', title = 'Daily average number of bike share rides by weather and precipitation', xaxis=dict(title='Weather condition'),\n",
    "    yaxis=dict(\n",
    "        title='Average number of bike share rides'),)\n",
    "\n",
    "fig = go.Figure(data=data, layout=layout)\n",
    "iplot(fig, filename = \"Weather\")"
   ]
  },
  {
   "cell_type": "markdown",
   "metadata": {},
   "source": [
    "<font size=\"2\">$^*$Cold is below 53 F, Good is beween 53 F and 73 F and Hot is above 73 F.  </font>"
   ]
  },
  {
   "cell_type": "markdown",
   "metadata": {},
   "source": [
    "### Bike rides duration increases with better weather"
   ]
  },
  {
   "cell_type": "markdown",
   "metadata": {},
   "source": [
    "<font size=\"3\">The weather also impacts the bike-share ride duration. On sunny days with no rain, the rides are almost 20.8% longer, and the average duration increases with improving weather conditions.</font>"
   ]
  },
  {
   "cell_type": "code",
   "execution_count": 54,
   "metadata": {},
   "outputs": [
    {
     "data": {
      "application/vnd.plotly.v1+json": {
       "config": {
        "linkText": "Export to plot.ly",
        "plotlyServerURL": "https://plot.ly",
        "responsive": true,
        "showLink": false
       },
       "data": [
        {
         "marker": {
          "color": "rgb(142, 212, 229)"
         },
         "name": "Rain",
         "type": "bar",
         "uid": "e6c7012e-ae10-4f7c-a243-cc726294ea03",
         "x": [
          "Cold & 🌧",
          "Good & 🌧",
          "Hot & 🌧"
         ],
         "y": [
          14.31099220775052,
          13.813688211963523
         ]
        },
        {
         "marker": {
          "color": "rgb(248, 222, 126)"
         },
         "name": "No Rain",
         "type": "bar",
         "uid": "633578c0-8e87-4b5f-acac-da0c6799bf1e",
         "x": [
          "Cold & 🌤",
          "Good & 🌤",
          "Hot & 🌤"
         ],
         "y": [
          15.22478511752489,
          16.839636127891882,
          18.891443646082823
         ]
        }
       ],
       "layout": {
        "barmode": "stack",
        "title": {
         "text": "Average duration of a bike share ride (in minutes) by weather and precipitation"
        },
        "xaxis": {
         "title": {
          "text": "Weather condition"
         }
        },
        "yaxis": {
         "title": {
          "text": "Average duration of a bike share ride"
         }
        }
       }
      },
      "text/html": [
       "<div>\n",
       "        \n",
       "        \n",
       "            <div id=\"8246e9bf-95c2-4d2c-9905-c6f75bcb6bd1\" class=\"plotly-graph-div\" style=\"height:525px; width:100%;\"></div>\n",
       "            <script type=\"text/javascript\">\n",
       "                require([\"plotly\"], function(Plotly) {\n",
       "                    window.PLOTLYENV=window.PLOTLYENV || {};\n",
       "                    window.PLOTLYENV.BASE_URL='https://plot.ly';\n",
       "                    \n",
       "                if (document.getElementById(\"8246e9bf-95c2-4d2c-9905-c6f75bcb6bd1\")) {\n",
       "                    Plotly.newPlot(\n",
       "                        '8246e9bf-95c2-4d2c-9905-c6f75bcb6bd1',\n",
       "                        [{\"marker\": {\"color\": \"rgb(142, 212, 229)\"}, \"name\": \"Rain\", \"type\": \"bar\", \"uid\": \"138b5fd2-3e1c-4107-a000-641adade01f1\", \"x\": [\"Cold & \\ud83c\\udf27\", \"Good & \\ud83c\\udf27\", \"Hot & \\ud83c\\udf27\"], \"y\": [14.31099220775052, 13.813688211963523]}, {\"marker\": {\"color\": \"rgb(248, 222, 126)\"}, \"name\": \"No Rain\", \"type\": \"bar\", \"uid\": \"a564cfb6-e1f4-477a-843a-0a966ae396a9\", \"x\": [\"Cold & \\ud83c\\udf24\", \"Good & \\ud83c\\udf24\", \"Hot & \\ud83c\\udf24\"], \"y\": [15.22478511752489, 16.839636127891882, 18.891443646082823]}],\n",
       "                        {\"barmode\": \"stack\", \"title\": {\"text\": \"Average duration of a bike share ride (in minutes) by weather and precipitation\"}, \"xaxis\": {\"title\": {\"text\": \"Weather condition\"}}, \"yaxis\": {\"title\": {\"text\": \"Average duration of a bike share ride\"}}},\n",
       "                        {\"showLink\": false, \"linkText\": \"Export to plot.ly\", \"plotlyServerURL\": \"https://plot.ly\", \"responsive\": true}\n",
       "                    ).then(function(){\n",
       "                            \n",
       "var gd = document.getElementById('8246e9bf-95c2-4d2c-9905-c6f75bcb6bd1');\n",
       "var x = new MutationObserver(function (mutations, observer) {{\n",
       "        var display = window.getComputedStyle(gd).display;\n",
       "        if (!display || display === 'none') {{\n",
       "            console.log([gd, 'removed!']);\n",
       "            Plotly.purge(gd);\n",
       "            observer.disconnect();\n",
       "        }}\n",
       "}});\n",
       "\n",
       "// Listen for the removal of the full notebook cells\n",
       "var notebookContainer = gd.closest('#notebook-container');\n",
       "if (notebookContainer) {{\n",
       "    x.observe(notebookContainer, {childList: true});\n",
       "}}\n",
       "\n",
       "// Listen for the clearing of the current output cell\n",
       "var outputEl = gd.closest('.output');\n",
       "if (outputEl) {{\n",
       "    x.observe(outputEl, {childList: true});\n",
       "}}\n",
       "\n",
       "                        })\n",
       "                };\n",
       "                });\n",
       "            </script>\n",
       "        </div>"
      ]
     },
     "metadata": {},
     "output_type": "display_data"
    }
   ],
   "source": [
    "increase = (np.mean(np.array(no_rain_avg_dur)) - np.mean(np.array(rain_avg_dur)))/np.mean(np.array(rain_avg_dur))\n",
    "rain_avg_dur = list(bike_wx[bike_wx.precip>0].groupby('wx_feel').duration_sec.mean()/60)\n",
    "no_rain_avg_dur = list(bike_wx[bike_wx.precip<=0].groupby('wx_feel').duration_sec.mean()/60)\n",
    "trace1 = go.Bar(\n",
    "    x=['Cold & 🌧', 'Good & 🌧', 'Hot & 🌧'],\n",
    "    y=rain_avg_dur, marker = dict(color=light_blue),\n",
    "    name='Rain')\n",
    "trace2 = go.Bar(\n",
    "    x=['Cold & 🌤', 'Good & 🌤', 'Hot & 🌤'],\n",
    "    y=no_rain_avg_dur,\n",
    "    name='No Rain', marker = dict(color=yellow))\n",
    "\n",
    "data = [trace1, trace2]\n",
    "layout = go.Layout(\n",
    "    barmode='stack', title = 'Average duration of a bike share ride (in minutes) by weather and precipitation', xaxis=dict(title='Weather condition'),\n",
    "    yaxis=dict(\n",
    "        title='Average duration of a bike share ride'),)\n",
    "\n",
    "fig = go.Figure(data=data, layout=layout)\n",
    "iplot(fig, filename = \"Weather\")"
   ]
  },
  {
   "cell_type": "markdown",
   "metadata": {},
   "source": [
    "### Share of Customer riding increases when it's hot"
   ]
  },
  {
   "cell_type": "markdown",
   "metadata": {},
   "source": [
    "<font size=\"3\">I found out that weather also impacts the behavior of different customer segments. The proportion of Customers increases by 10.8 percentage points vs. Subscribers when the weather goes from cold to hot.</font>"
   ]
  },
  {
   "cell_type": "code",
   "execution_count": 24,
   "metadata": {},
   "outputs": [],
   "source": [
    "bt = pd.read_csv('bike_sharing_weather_daily.csv')"
   ]
  },
  {
   "cell_type": "code",
   "execution_count": 26,
   "metadata": {},
   "outputs": [
    {
     "data": {
      "application/vnd.plotly.v1+json": {
       "config": {
        "linkText": "Export to plot.ly",
        "plotlyServerURL": "https://plot.ly",
        "responsive": true,
        "showLink": false
       },
       "data": [
        {
         "marker": {
          "color": "rgb(169,169,169)"
         },
         "name": "Customer",
         "type": "bar",
         "uid": "c013878b-1294-4e24-b31a-c7c6b13191d5",
         "x": [
          "Cold",
          "Good",
          "Hot"
         ],
         "y": [
          0.1480608812966728,
          0.18220147737275172,
          0.2560658127668437
         ]
        },
        {
         "marker": {
          "color": "rgb(231, 84, 128)"
         },
         "name": "Subscriber",
         "type": "bar",
         "uid": "6ad27dc6-b41d-476d-9211-1f4ac34f5bd3",
         "x": [
          "Cold",
          "Good",
          "Hot"
         ],
         "y": [
          0.8519391187033272,
          0.8177985226272483,
          0.7439341872331563
         ]
        }
       ],
       "layout": {
        "barmode": "stack",
        "title": {
         "text": "Comparing customers vs. subscribers behaviour by weather"
        },
        "xaxis": {
         "title": {
          "text": "Weather condition"
         }
        },
        "yaxis": {
         "title": {
          "text": "% of total bike share rides"
         }
        }
       }
      },
      "text/html": [
       "<div>\n",
       "        \n",
       "        \n",
       "            <div id=\"67ce3fe5-98cf-4c8f-b8aa-b8d2b1cee5d2\" class=\"plotly-graph-div\" style=\"height:525px; width:100%;\"></div>\n",
       "            <script type=\"text/javascript\">\n",
       "                require([\"plotly\"], function(Plotly) {\n",
       "                    window.PLOTLYENV=window.PLOTLYENV || {};\n",
       "                    window.PLOTLYENV.BASE_URL='https://plot.ly';\n",
       "                    \n",
       "                if (document.getElementById(\"67ce3fe5-98cf-4c8f-b8aa-b8d2b1cee5d2\")) {\n",
       "                    Plotly.newPlot(\n",
       "                        '67ce3fe5-98cf-4c8f-b8aa-b8d2b1cee5d2',\n",
       "                        [{\"marker\": {\"color\": \"rgb(169,169,169)\"}, \"name\": \"Customer\", \"type\": \"bar\", \"uid\": \"3db04382-5773-406d-89a5-648b41cccfae\", \"x\": [\"Cold\", \"Good\", \"Hot\"], \"y\": [0.1480608812966728, 0.18220147737275172, 0.2560658127668437]}, {\"marker\": {\"color\": \"rgb(231, 84, 128)\"}, \"name\": \"Subscriber\", \"type\": \"bar\", \"uid\": \"b00f97a1-1d71-40cc-bacd-436eafc6377e\", \"x\": [\"Cold\", \"Good\", \"Hot\"], \"y\": [0.8519391187033272, 0.8177985226272483, 0.7439341872331563]}],\n",
       "                        {\"barmode\": \"stack\", \"title\": {\"text\": \"Comparing customers vs. subscribers behaviour by weather\"}, \"xaxis\": {\"title\": {\"text\": \"Weather condition\"}}, \"yaxis\": {\"title\": {\"text\": \"% of total bike share rides\"}}},\n",
       "                        {\"showLink\": false, \"linkText\": \"Export to plot.ly\", \"plotlyServerURL\": \"https://plot.ly\", \"responsive\": true}\n",
       "                    ).then(function(){\n",
       "                            \n",
       "var gd = document.getElementById('67ce3fe5-98cf-4c8f-b8aa-b8d2b1cee5d2');\n",
       "var x = new MutationObserver(function (mutations, observer) {{\n",
       "        var display = window.getComputedStyle(gd).display;\n",
       "        if (!display || display === 'none') {{\n",
       "            console.log([gd, 'removed!']);\n",
       "            Plotly.purge(gd);\n",
       "            observer.disconnect();\n",
       "        }}\n",
       "}});\n",
       "\n",
       "// Listen for the removal of the full notebook cells\n",
       "var notebookContainer = gd.closest('#notebook-container');\n",
       "if (notebookContainer) {{\n",
       "    x.observe(notebookContainer, {childList: true});\n",
       "}}\n",
       "\n",
       "// Listen for the clearing of the current output cell\n",
       "var outputEl = gd.closest('.output');\n",
       "if (outputEl) {{\n",
       "    x.observe(outputEl, {childList: true});\n",
       "}}\n",
       "\n",
       "                        })\n",
       "                };\n",
       "                });\n",
       "            </script>\n",
       "        </div>"
      ]
     },
     "metadata": {},
     "output_type": "display_data"
    }
   ],
   "source": [
    "# Good\n",
    "cust_g = bt[bt.wx_feel == 'good'].count_customer.sum() / bt[bt.wx_feel == 'good'].count_shares.sum()\n",
    "sub_g = bt[bt.wx_feel == 'good'].count_subscriber.sum() / bt[bt.wx_feel == 'good'].count_shares.sum()\n",
    "# Cold\n",
    "cust_c = bt[bt.wx_feel == 'cold'].count_customer.sum() / bt[bt.wx_feel == 'cold'].count_shares.sum()\n",
    "sub_c = bt[bt.wx_feel == 'cold'].count_subscriber.sum() / bt[bt.wx_feel == 'cold'].count_shares.sum()\n",
    "# Hot\n",
    "cust_h = bt[bt.wx_feel == 'hot'].count_customer.sum() / bt[bt.wx_feel == 'hot'].count_shares.sum()\n",
    "sub_h = bt[bt.wx_feel == 'hot'].count_subscriber.sum() / bt[bt.wx_feel == 'hot'].count_shares.sum()\n",
    "\n",
    "trace1 = go.Bar(\n",
    "    x=['Cold', 'Good', 'Hot'],\n",
    "    y=[cust_c, cust_g, cust_h], marker = dict(color=grey),\n",
    "    name='Customer')\n",
    "trace2 = go.Bar(\n",
    "    x=['Cold', 'Good', 'Hot'],\n",
    "    y=[sub_c, sub_g, sub_h],\n",
    "    name='Subscriber', marker = dict(color=pink))\n",
    "\n",
    "data = [trace1, trace2]\n",
    "layout = go.Layout(\n",
    "    barmode='stack', title = 'Comparing customers vs. subscribers behaviour by weather', \n",
    "    xaxis=dict(title='Weather condition'),\n",
    "    yaxis=dict(\n",
    "        title='% of total bike share rides'),)\n",
    "\n",
    "fig = go.Figure(data=data, layout=layout)\n",
    "iplot(fig, filename = \"Bike Shares\")"
   ]
  },
  {
   "cell_type": "markdown",
   "metadata": {},
   "source": [
    "<font size=\"3\"> <a href=\"full_analysis.html#user\">More</a> insights about weather impact on Customer vs. Subscriber behavior is in full analysis.</font>"
   ]
  },
  {
   "cell_type": "markdown",
   "metadata": {},
   "source": [
    "### Daylight and average temperature are correlated with the average bike-share ride duration"
   ]
  },
  {
   "cell_type": "markdown",
   "metadata": {},
   "source": [
    "<font size=\"3\">I computed Pearson's correlation between the number of bike rides and trip duration with every weather feature. The daylight and average temperature are correlated with bike-share ride duration both with **0.27** correlation. The number of bike rides is less correlated to the same features. This finding agrees with my insight from above that with a good weather condition, people tend to ride longer rather than more often. \n",
    "<br> Not surprisingly, both the number of rides and duration is negatively correlated with precipitation with a correlation of **-0.13** and **-0.16**,  respectively.  See full analysis for more on <a href=\"full_analysis.html#corr\">correlation</a> incl. scatter-matrix.</font>"
   ]
  },
  {
   "cell_type": "code",
   "execution_count": 41,
   "metadata": {},
   "outputs": [
    {
     "name": "stdout",
     "output_type": "stream",
     "text": [
      "count_shares       1.000000\n",
      "daily_temp_diff    0.064711\n",
      "daylight           0.016215\n",
      "avg_temp          -0.032397\n",
      "precip            -0.133744\n",
      "Name: count_shares, dtype: float64\n"
     ]
    }
   ],
   "source": [
    "attr = ['count_shares', 'avg_temp', 'daylight', 'daily_temp_diff', 'precip']\n",
    "corr_matrix = bt[attr].corr()\n",
    "print(corr_matrix['count_shares'].sort_values(ascending=False))"
   ]
  },
  {
   "cell_type": "code",
   "execution_count": 44,
   "metadata": {},
   "outputs": [
    {
     "name": "stdout",
     "output_type": "stream",
     "text": [
      "avg_duration       1.000000\n",
      "daylight           0.274030\n",
      "avg_temp           0.265020\n",
      "daily_temp_diff    0.014498\n",
      "precip            -0.157170\n",
      "Name: avg_duration, dtype: float64\n"
     ]
    }
   ],
   "source": [
    "attr = ['avg_duration', 'avg_temp', 'daylight', 'daily_temp_diff', 'precip']\n",
    "corr_matrix = bt[attr].corr()\n",
    "print(corr_matrix['avg_duration'].sort_values(ascending=False))"
   ]
  },
  {
   "cell_type": "markdown",
   "metadata": {},
   "source": [
    "### Weather is a strong predictor in time series forecast"
   ]
  },
  {
   "cell_type": "markdown",
   "metadata": {},
   "source": [
    "<font size=\"3\">By constructing time series models, I discovered that the weather is a good predictor of daily bike-share rides.\n",
    "I built a SARIMA and a SARIMAX models and compared their RMSE and $R^2$. I proved that including a weather feature improves the prediction accuracy of a model. \n",
    "<br> I chose to predict the number of bike-share rides per day to restrict the scope. But similar models could be applied to predict the daily duration. Both metrics are important for a bike-share business. The number of rides prediction can be used for planning the capacity. The duration would be helpful to forecast the company's revenue.</font>"
   ]
  },
  {
   "cell_type": "markdown",
   "metadata": {},
   "source": [
    "<font size=\"3\">SARIMA (Seasonal Autoregressive Integrated Moving Average ) is a simple and commonly used time series model. The model makes prediction only based on its historical values. In contrast, SARIMAX can include one or more exogenous variables. Below is my SARIMAX, with precipitation as an exogenous factor.</font>"
   ]
  },
  {
   "cell_type": "markdown",
   "metadata": {},
   "source": [
    "<font size=\"3\"> Using weather factor improved both performance metrics vs. the univariate model.  \n",
    "    <br> RMSE of SARIMAX is **673.52** (vs. 1069.76 of SARIMA)\n",
    "    <br> R2 of SARIMAX is **0.8** (vs. 0.49 of SARIMA)</font> "
   ]
  },
  {
   "cell_type": "code",
   "execution_count": 50,
   "metadata": {},
   "outputs": [
    {
     "data": {
      "image/png": "[encoded data removed]",
      "text/plain": [
       "<Figure size 1296x432 with 1 Axes>"
      ]
     },
     "metadata": {},
     "output_type": "display_data"
    }
   ],
   "source": [
    "bt_ts = bt.iloc[:, [0, 1, 10]].set_index('date')\n",
    "train = bt_ts['2017-06-28':'2018-04-20']\n",
    "test = bt_ts['2018-04-21':]\n",
    "model_2 = sm.tsa.statespace.SARIMAX(bt_ts.count_shares,\n",
    "                                order=(0, 1, 0),\n",
    "                                seasonal_order=(1, 1, 1, 7),\n",
    "                                enforce_stationarity=False,\n",
    "                                enforce_invertibility=False,\n",
    "                               exog=bt_ts.precip)\n",
    "result_2 = model_2.fit(train.count_shares)\n",
    "# I'm showing here the last 3 months roughtly for better visualization:\n",
    "pred_2 = result_2.get_prediction(start='2018-04-21', dynamic=False)\n",
    "pred_ci = pred_2.conf_int()\n",
    "\n",
    "pred = pred_2.predicted_mean.to_frame()\n",
    "pred_plus_ci = pd.merge(pred_ci, pred, how='left', on='date')\n",
    "pred_plus_ci.rename(columns={0: 'pred'}, inplace=True)\n",
    "\n",
    "tr = bt_ts.iloc[-90:,0].to_frame()\n",
    "pred_to_plot = pd.merge(tr, pred_plus_ci, how='left', on='date')\n",
    "\n",
    "ax = pred_to_plot.count_shares.plot(label='Observed', color='dodgerblue')\n",
    "pred_to_plot.pred.plot(ax=ax, label='Forecast', alpha=.7, figsize=(18, 6), color='deeppink')\n",
    "\n",
    "ax.fill_between(pred_to_plot.index,\n",
    "                pred_to_plot.iloc[:, 1],\n",
    "                pred_to_plot.iloc[:, 2], color='darkgrey', alpha=.2)\n",
    "\n",
    "xticks = pred_to_plot.index\n",
    "ax.xaxis.set_ticks(xticks)\n",
    "ax.set_xticklabels(xticks, alpha=1, rotation=45)\n",
    "ax.set_xticks(ax.get_xticks()[::5])\n",
    "\n",
    "ax.set_xlabel('Date')\n",
    "ax.set_ylabel('Bike share rides')\n",
    "plt.legend()\n",
    "plt.show()"
   ]
  },
  {
   "cell_type": "markdown",
   "metadata": {},
   "source": [
    "<font size=\"3\">More details on time series decomposition, Augmented-Dickey-Fuller stationarity test, finding the correct parameters through iteration with AIC as well as residuals diagnostic, is under <a href=\"full_analysis.html#time\">forecasting</a> section of my <a href=\"full_analysis.html\">full analysis</a>.</font>"
   ]
  },
  {
   "cell_type": "markdown",
   "metadata": {},
   "source": [
    "<font size=\"3\">\n",
    "👉 To conclude, the weather does impact bike-share behavior. I could show that with EDA, correlation analysis as well as with time series forecasting. Including weather features improves model predictions. \n",
    "<br>👉 As a next step it would be interesting to try to improve  SARIMAX model by 1) tuning the hyperparameters 2) adding more exogenous features. \n",
    "<br>👉 Another option would be trying more advanced techniques for modeling e.g., Random Forest Regressor or Neural Network models \n",
    "<br>👉 In terms of data analysis, we could consider hourly bike rides forecast with corresponding hourly weather data.</font>"
   ]
  },
  {
   "cell_type": "code",
   "execution_count": null,
   "metadata": {},
   "outputs": [],
   "source": []
  },
  {
   "cell_type": "code",
   "execution_count": null,
   "metadata": {},
   "outputs": [],
   "source": []
  }
 ],
 "metadata": {
  "kernelspec": {
   "display_name": "Python 3",
   "language": "python",
   "name": "python3"
  },
  "language_info": {
   "codemirror_mode": {
    "name": "ipython",
    "version": 3
   },
   "file_extension": ".py",
   "mimetype": "text/x-python",
   "name": "python",
   "nbconvert_exporter": "python",
   "pygments_lexer": "ipython3",
   "version": "3.6.4"
  },
  "varInspector": {
   "cols": {
    "lenName": 16,
    "lenType": 16,
    "lenVar": 40
   },
   "kernels_config": {
    "python": {
     "delete_cmd_postfix": "",
     "delete_cmd_prefix": "del ",
     "library": "var_list.py",
     "varRefreshCmd": "print(var_dic_list())"
    },
    "r": {
     "delete_cmd_postfix": ") ",
     "delete_cmd_prefix": "rm(",
     "library": "var_list.r",
     "varRefreshCmd": "cat(var_dic_list()) "
    }
   },
   "types_to_exclude": [
    "module",
    "function",
    "builtin_function_or_method",
    "instance",
    "_Feature"
   ],
   "window_display": false
  }
 },
 "nbformat": 4,
 "nbformat_minor": 2
}
